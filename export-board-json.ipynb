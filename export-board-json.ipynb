{
 "cells": [
  {
   "cell_type": "code",
   "execution_count": null,
   "id": "559be359-8f7c-451c-8a70-948e94d04b32",
   "metadata": {},
   "outputs": [],
   "source": [
    "from dotenv import dotenv_values\n",
    "\n",
    "config = dotenv_values(\".env\")"
   ]
  },
  {
   "cell_type": "code",
   "execution_count": null,
   "id": "dcafe347-535a-42c5-b3a6-1eff0b4ce3ed",
   "metadata": {},
   "outputs": [],
   "source": [
    "import requests\n",
    "\n",
    "API_KEY = config['API_KEY']\n",
    "TOKEN = config['TOKEN']\n",
    "BOARD_ID = config['BOARD_ID']\n",
    "\n",
    "url = f'https://api.trello.com/1/boards/{BOARD_ID}?key={API_KEY}&token={TOKEN}&fields=all&actions=all&action_fields=all&actions_limit=1000&cards=all&card_fields=all&card_attachments=true&labels=all&lists=all&list_fields=all&members=all&member_fields=all&checklists=all&checklist_fields=all&organization=false&card_pluginData=true&customFields=true&memberships=all&pluginData=true&organization_pluginData=true&myPrefs=true&tags=true'\n",
    "\n",
    "response = requests.get(url)\n",
    "\n",
    "if response.status_code == 200:\n",
    "    board_data = response.json()\n",
    "    # Hier kannst du mit den Daten des Boards arbeiten\n",
    "    print(board_data)\n",
    "else:\n",
    "    print(f\"Fehler beim Abrufen des Boards. Statuscode: {response.status_code}\")\n"
   ]
  },
  {
   "cell_type": "code",
   "execution_count": null,
   "id": "51b60732-d55b-41cf-b276-e73a1f805717",
   "metadata": {},
   "outputs": [],
   "source": [
    "type(board_data)"
   ]
  },
  {
   "cell_type": "code",
   "execution_count": null,
   "id": "483f78bf-f5ad-4419-9aac-3219a2cf8c2a",
   "metadata": {},
   "outputs": [],
   "source": [
    "board_data.keys()"
   ]
  },
  {
   "cell_type": "code",
   "execution_count": null,
   "id": "66d83ae2-9ae2-47bb-a480-942384585bb1",
   "metadata": {},
   "outputs": [],
   "source": [
    "type(board_data['cards'])"
   ]
  },
  {
   "cell_type": "code",
   "execution_count": null,
   "id": "1b36d453-5d3c-4f96-8374-b2213383f55b",
   "metadata": {},
   "outputs": [],
   "source": [
    "cards = board_data['cards']"
   ]
  },
  {
   "cell_type": "code",
   "execution_count": null,
   "id": "fbd72af8-a1c4-4854-9a76-4d6223ddaf87",
   "metadata": {},
   "outputs": [],
   "source": [
    "len(cards)"
   ]
  },
  {
   "cell_type": "code",
   "execution_count": null,
   "id": "c30a975c-ceeb-46f1-9afc-f036da31e102",
   "metadata": {},
   "outputs": [],
   "source": [
    "card0 = cards[0]"
   ]
  },
  {
   "cell_type": "code",
   "execution_count": null,
   "id": "7fbd162e-da60-4d53-ac6c-9cb5c8c24567",
   "metadata": {},
   "outputs": [],
   "source": [
    "type(card0)"
   ]
  },
  {
   "cell_type": "code",
   "execution_count": null,
   "id": "23912b7d-6e3b-4df2-9b0c-616230c35cbe",
   "metadata": {},
   "outputs": [],
   "source": [
    "card0.keys()"
   ]
  },
  {
   "cell_type": "code",
   "execution_count": null,
   "id": "70a6b5f7-0398-4255-947c-9b258fae2518",
   "metadata": {},
   "outputs": [],
   "source": [
    "card0"
   ]
  },
  {
   "cell_type": "code",
   "execution_count": null,
   "id": "adbca4a4-1141-4fb9-8875-6921909dcdef",
   "metadata": {},
   "outputs": [],
   "source": [
    "import json"
   ]
  },
  {
   "cell_type": "code",
   "execution_count": null,
   "id": "c233edce-152f-434a-8f67-e6bdf4a4afb0",
   "metadata": {},
   "outputs": [],
   "source": [
    "with open('export-viaAPI.json', 'w') as f:\n",
    "    json.dump(board_data, f, indent=4)"
   ]
  },
  {
   "cell_type": "code",
   "execution_count": null,
   "id": "a53a324b-0957-4ac4-9439-0f692613d0ec",
   "metadata": {},
   "outputs": [],
   "source": []
  }
 ],
 "metadata": {
  "language_info": {
   "name": "python",
   "pygments_lexer": "ipython3"
  }
 },
 "nbformat": 4,
 "nbformat_minor": 5
}
