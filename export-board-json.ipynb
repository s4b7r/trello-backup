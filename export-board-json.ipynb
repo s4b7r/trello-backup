{
 "cells": [
  {
   "cell_type": "code",
   "execution_count": null,
   "id": "adbca4a4-1141-4fb9-8875-6921909dcdef",
   "metadata": {},
   "outputs": [],
   "source": [
    "from dotenv import dotenv_values\n",
    "import requests\n",
    "import json"
   ]
  },
  {
   "cell_type": "code",
   "execution_count": null,
   "id": "4e6bd646-bd6d-437f-bdb0-3f9357ab0f1c",
   "metadata": {},
   "outputs": [],
   "source": []
  },
  {
   "cell_type": "code",
   "execution_count": null,
   "id": "559be359-8f7c-451c-8a70-948e94d04b32",
   "metadata": {},
   "outputs": [],
   "source": [
    "config = dotenv_values(\".env\")"
   ]
  },
  {
   "cell_type": "code",
   "execution_count": null,
   "id": "dcafe347-535a-42c5-b3a6-1eff0b4ce3ed",
   "metadata": {},
   "outputs": [],
   "source": [
    "API_KEY = config['API_KEY']\n",
    "TOKEN = config['TOKEN']\n",
    "BOARD_ID = config['BOARD_ID']\n",
    "\n",
    "url = f'https://api.trello.com/1/boards/{BOARD_ID}?key={API_KEY}&token={TOKEN}&fields=all&actions=all&action_fields=all&actions_limit=1000&cards=all&card_fields=all&card_attachments=true&labels=all&lists=all&list_fields=all&members=all&member_fields=all&checklists=all&checklist_fields=all&organization=false&card_pluginData=true&customFields=true&memberships=all&pluginData=true&organization_pluginData=true&myPrefs=true&tags=true'\n",
    "\n",
    "response = requests.get(url)\n",
    "\n",
    "if response.status_code == 200:\n",
    "    board_data = response.json()\n",
    "    # Hier kannst du mit den Daten des Boards arbeiten\n",
    "    #print(board_data)\n",
    "else:\n",
    "    print(f\"Fehler beim Abrufen des Boards. Statuscode: {response.status_code}\")\n",
    "    \n"
   ]
  },
  {
   "cell_type": "code",
   "execution_count": null,
   "id": "a1fb825f",
   "metadata": {},
   "outputs": [],
   "source": [
    "actions_url = f'https://api.trello.com/1/boards/{BOARD_ID}/actions?key={API_KEY}&token={TOKEN}&filter=commentCard&limit=1000'\n",
    "actions_response = requests.get(actions_url)\n",
    "actions = actions_response.json()\n",
    "board_data['actions'].extend(actions)\n"
   ]
  },
  {
   "cell_type": "code",
   "execution_count": null,
   "id": "2515b2a5-ef7d-4c7f-ba51-9818bf1edc34",
   "metadata": {},
   "outputs": [],
   "source": [
    "# for card in board_data['cards']:\n",
    "#     card_id = card['id']\n",
    "#     # API-Endpunkt, um Kommentare für eine Karte abzurufen\n",
    "#     comments_url = f'https://api.trello.com/1/cards/{card_id}/actions?key={API_KEY}&token={TOKEN}&filter=commentCard'\n",
    "#     comments_response = requests.get(comments_url)\n",
    "\n",
    "#     if comments_response.status_code == 200:\n",
    "#         comments_data = comments_response.json()\n",
    "#         card['comments'] = comments_data"
   ]
  },
  {
   "cell_type": "code",
   "execution_count": null,
   "id": "c233edce-152f-434a-8f67-e6bdf4a4afb0",
   "metadata": {},
   "outputs": [],
   "source": [
    "with open('export-viaAPI.json', 'w') as f:\n",
    "    json.dump(board_data, f, indent=4)"
   ]
  }
 ],
 "metadata": {
  "language_info": {
   "name": "python",
   "pygments_lexer": "ipython3"
  }
 },
 "nbformat": 4,
 "nbformat_minor": 5
}
